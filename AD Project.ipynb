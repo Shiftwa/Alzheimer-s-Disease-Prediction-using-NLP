{
 "cells": [
  {
   "cell_type": "code",
   "execution_count": 64,
   "metadata": {},
   "outputs": [],
   "source": [
    "import pandas as pd\n",
    "import nltk\n",
    "import numpy as np\n",
    "import re"
   ]
  },
  {
   "cell_type": "code",
   "execution_count": 65,
   "metadata": {},
   "outputs": [
    {
     "name": "stdout",
     "output_type": "stream",
     "text": [
      "Encoding: utf-8 (confidence: 0.99)\n",
      "\n"
     ]
    }
   ],
   "source": [
    "import chardet\n",
    "filename = 'addataset.csv' \n",
    "detector = chardet.UniversalDetector()\n",
    "for line in open(filename, 'rb'):\n",
    "        detector.feed(line)\n",
    "        if detector.done: break\n",
    "detector.close()\n",
    "print(f\"Encoding: {detector.result['encoding']} (confidence: {detector.result['confidence']})\\n\")"
   ]
  },
  {
   "cell_type": "code",
   "execution_count": 66,
   "metadata": {},
   "outputs": [],
   "source": [
    "# path to the dataset\n",
    "\n",
    "path = 'addataset.csv' \n"
   ]
  },
  {
   "cell_type": "code",
   "execution_count": 67,
   "metadata": {},
   "outputs": [
    {
     "data": {
      "text/html": [
       "<div>\n",
       "<style scoped>\n",
       "    .dataframe tbody tr th:only-of-type {\n",
       "        vertical-align: middle;\n",
       "    }\n",
       "\n",
       "    .dataframe tbody tr th {\n",
       "        vertical-align: top;\n",
       "    }\n",
       "\n",
       "    .dataframe thead th {\n",
       "        text-align: right;\n",
       "    }\n",
       "</style>\n",
       "<table border=\"1\" class=\"dataframe\">\n",
       "  <thead>\n",
       "    <tr style=\"text-align: right;\">\n",
       "      <th></th>\n",
       "      <th>Transcript</th>\n",
       "      <th>AD</th>\n",
       "    </tr>\n",
       "  </thead>\n",
       "  <tbody>\n",
       "    <tr>\n",
       "      <th>493</th>\n",
       "      <td>well this one is in the cookie jar . and thi...</td>\n",
       "      <td>1</td>\n",
       "    </tr>\n",
       "    <tr>\n",
       "      <th>494</th>\n",
       "      <td>the little boy is on the stool which is tipp...</td>\n",
       "      <td>1</td>\n",
       "    </tr>\n",
       "    <tr>\n",
       "      <th>495</th>\n",
       "      <td>oh you want me to tell you . the mother and h...</td>\n",
       "      <td>1</td>\n",
       "    </tr>\n",
       "    <tr>\n",
       "      <th>496</th>\n",
       "      <td>oh that kid's gonna get a good spill off of t...</td>\n",
       "      <td>1</td>\n",
       "    </tr>\n",
       "    <tr>\n",
       "      <th>497</th>\n",
       "      <td>ah oh boy .  oh the kids are trying to get th...</td>\n",
       "      <td>1</td>\n",
       "    </tr>\n",
       "  </tbody>\n",
       "</table>\n",
       "</div>"
      ],
      "text/plain": [
       "                                            Transcript  AD\n",
       "493    well this one is in the cookie jar . and thi...   1\n",
       "494    the little boy is on the stool which is tipp...   1\n",
       "495   oh you want me to tell you . the mother and h...   1\n",
       "496   oh that kid's gonna get a good spill off of t...   1\n",
       "497   ah oh boy .  oh the kids are trying to get th...   1"
      ]
     },
     "execution_count": 67,
     "metadata": {},
     "output_type": "execute_result"
    }
   ],
   "source": [
    "df = pd.read_csv(path, delimiter=',', encoding='ISO-8859-1')\n",
    "\n",
    "df.tail()"
   ]
  },
  {
   "cell_type": "code",
   "execution_count": 68,
   "metadata": {},
   "outputs": [
    {
     "data": {
      "text/html": [
       "<div>\n",
       "<style scoped>\n",
       "    .dataframe tbody tr th:only-of-type {\n",
       "        vertical-align: middle;\n",
       "    }\n",
       "\n",
       "    .dataframe tbody tr th {\n",
       "        vertical-align: top;\n",
       "    }\n",
       "\n",
       "    .dataframe thead th {\n",
       "        text-align: right;\n",
       "    }\n",
       "</style>\n",
       "<table border=\"1\" class=\"dataframe\">\n",
       "  <thead>\n",
       "    <tr style=\"text-align: right;\">\n",
       "      <th></th>\n",
       "      <th>Transcript</th>\n",
       "      <th>AD</th>\n",
       "    </tr>\n",
       "  </thead>\n",
       "  <tbody>\n",
       "    <tr>\n",
       "      <th>0</th>\n",
       "      <td>the scene is in the in the kitchen . the moth...</td>\n",
       "      <td>0</td>\n",
       "    </tr>\n",
       "    <tr>\n",
       "      <th>1</th>\n",
       "      <td>oh I see the sink is running over . I see the...</td>\n",
       "      <td>0</td>\n",
       "    </tr>\n",
       "    <tr>\n",
       "      <th>2</th>\n",
       "      <td>a boy and a girl are in the kitchen with thei...</td>\n",
       "      <td>0</td>\n",
       "    </tr>\n",
       "    <tr>\n",
       "      <th>3</th>\n",
       "      <td>it was summertime and mother and the childre...</td>\n",
       "      <td>0</td>\n",
       "    </tr>\n",
       "    <tr>\n",
       "      <th>4</th>\n",
       "      <td>wait until I put my glasses on . oh ? there's...</td>\n",
       "      <td>0</td>\n",
       "    </tr>\n",
       "  </tbody>\n",
       "</table>\n",
       "</div>"
      ],
      "text/plain": [
       "                                          Transcript  AD\n",
       "0   the scene is in the in the kitchen . the moth...   0\n",
       "1   oh I see the sink is running over . I see the...   0\n",
       "2   a boy and a girl are in the kitchen with thei...   0\n",
       "3    it was summertime and mother and the childre...   0\n",
       "4   wait until I put my glasses on . oh ? there's...   0"
      ]
     },
     "execution_count": 68,
     "metadata": {},
     "output_type": "execute_result"
    }
   ],
   "source": [
    "df.head()"
   ]
  },
  {
   "cell_type": "code",
   "execution_count": 69,
   "metadata": {},
   "outputs": [
    {
     "data": {
      "text/plain": [
       "(498, 2)"
      ]
     },
     "execution_count": 69,
     "metadata": {},
     "output_type": "execute_result"
    }
   ],
   "source": [
    "df.shape"
   ]
  },
  {
   "cell_type": "code",
   "execution_count": 70,
   "metadata": {},
   "outputs": [
    {
     "name": "stderr",
     "output_type": "stream",
     "text": [
      "[nltk_data] Downloading package wordnet to /Users/mac/nltk_data...\n",
      "[nltk_data]   Package wordnet is already up-to-date!\n"
     ]
    },
    {
     "data": {
      "text/plain": [
       "True"
      ]
     },
     "execution_count": 70,
     "metadata": {},
     "output_type": "execute_result"
    }
   ],
   "source": [
    "from nltk.corpus import stopwords\n",
    "from nltk.stem.wordnet import WordNetLemmatizer\n",
    "nltk.download('wordnet')"
   ]
  },
  {
   "cell_type": "code",
   "execution_count": 71,
   "metadata": {},
   "outputs": [],
   "source": [
    "customStopwords = {'a','are','about','above','after','again','against','ain','all','am','an','any','aren',\"aren't\",'as',\n",
    "                   'at','be','because','been','before','being','below','between','both','but','by',\n",
    "                   'can','couldn',\"couldn't\",'d','didn',\"didn't\",'do','does','doesn',\"doesn't\",'doing','don',\"don't\",\n",
    "                   'down','during','each','few','for','from','further','had','hadn',\"hadn't\",'has','hasn',\"hasn't\",\n",
    "                   'have','haven',\"haven't\",'having','he','her','here','hers','herself','him','himself','his','how', 'i','if', \n",
    "                   'in', 'into','is','isn',\"isn't\", \"it's\",'its','itself','just','ll','m','ma','me','mightn',\"mightn't\",\n",
    "                   'more','most','mustn',\"mustn't\",'my','myself','needn',\"needn't\",'no','nor','not','now', 'o','of',\n",
    "                   'off','on','once','only','or','other','our','ours','ourselves','out','over','own','re','s','same',\n",
    "                   'shan',\"shan't\",'she',\"she's\",'should',\"should've\",'shouldn',\"shouldn't\",'so','some','such','t','than','that',\"that'll\",\n",
    "                   'the','there',\"there's\",'their','theirs','them','themselves','then','these','they','this','those','through','to','too',\n",
    "                   'under','until','up','ve','very','was','wasn',\"wasn't\",'we','were','weren',\"weren't\",'what','when',\n",
    "                   'where','which','while','who','whom','why','will','with','won',\"won't\",'wouldn', \"wouldn't\",'y',\n",
    "                   'you',\"you'd\",\"you'll\",\"you're\",\"you've\",'your','yours','yourself','yourselves'}"
   ]
  },
  {
   "cell_type": "code",
   "execution_count": 72,
   "metadata": {},
   "outputs": [],
   "source": [
    "preprocessed_data = []\n",
    "def preprocess(dataframe):\n",
    "    for i in range(dataframe.shape[0]):\n",
    "        df = re.sub('[^a-zA-Z]',' ',dataframe.iloc[i][0]) ##remove all the characters except alphabets (E.g. &, *, #)\n",
    "        df = df.lower() ## convert all the sentences to lower case\n",
    "        df = df.split() ##tokenize each word\n",
    "        df = [word for word in df if word not in customStopwords] ##removing stopwords\n",
    "        lemmatizer = WordNetLemmatizer()\n",
    "        df = [lemmatizer.lemmatize(word) for word in df] ##performed lemmatization \n",
    "        df = ' '.join(df) # using space as separator to concatenate the list elements\n",
    "        # print(df)\n",
    "        preprocessed_data.append(df)\n",
    "    return preprocessed_data"
   ]
  },
  {
   "cell_type": "code",
   "execution_count": 74,
   "metadata": {},
   "outputs": [
    {
     "data": {
      "text/plain": [
       "'well child enjoying it and mother drying dish and little boy fall careful oh dishwashing and little boy trying get something outof box imagine it cookie box cookie and and stool it turned yet way it two leg it much longer reaching cookie jar dishwashing evidently hafta dry dish wash think'"
      ]
     },
     "execution_count": 74,
     "metadata": {},
     "output_type": "execute_result"
    }
   ],
   "source": [
    "preprocessed_data = preprocess(df)\n",
    "preprocessed_data[259]"
   ]
  },
  {
   "cell_type": "code",
   "execution_count": 56,
   "metadata": {},
   "outputs": [
    {
     "data": {
      "text/plain": [
       "(498, 1)"
      ]
     },
     "execution_count": 56,
     "metadata": {},
     "output_type": "execute_result"
    }
   ],
   "source": [
    "preprocessed_data = pd.DataFrame(data=preprocessed_data,columns=['Transcript']) ##create dataframe of preprocessed data\n",
    "preprocessed_data.shape"
   ]
  },
  {
   "cell_type": "code",
   "execution_count": 57,
   "metadata": {},
   "outputs": [
    {
     "data": {
      "text/html": [
       "<div>\n",
       "<style scoped>\n",
       "    .dataframe tbody tr th:only-of-type {\n",
       "        vertical-align: middle;\n",
       "    }\n",
       "\n",
       "    .dataframe tbody tr th {\n",
       "        vertical-align: top;\n",
       "    }\n",
       "\n",
       "    .dataframe thead th {\n",
       "        text-align: right;\n",
       "    }\n",
       "</style>\n",
       "<table border=\"1\" class=\"dataframe\">\n",
       "  <thead>\n",
       "    <tr style=\"text-align: right;\">\n",
       "      <th></th>\n",
       "      <th>Transcript</th>\n",
       "    </tr>\n",
       "  </thead>\n",
       "  <tbody>\n",
       "    <tr>\n",
       "      <th>0</th>\n",
       "      <td>scene kitchen mother wiping dish and water run...</td>\n",
       "    </tr>\n",
       "    <tr>\n",
       "      <th>1</th>\n",
       "      <td>oh see sink running see stool tipping little b...</td>\n",
       "    </tr>\n",
       "    <tr>\n",
       "      <th>2</th>\n",
       "      <td>boy and girl kitchen mother and little boy get...</td>\n",
       "    </tr>\n",
       "    <tr>\n",
       "      <th>3</th>\n",
       "      <td>it summertime and mother and child working kit...</td>\n",
       "    </tr>\n",
       "    <tr>\n",
       "      <th>4</th>\n",
       "      <td>wait put glass oh girl reaching cookie boy sta...</td>\n",
       "    </tr>\n",
       "    <tr>\n",
       "      <th>...</th>\n",
       "      <td>...</td>\n",
       "    </tr>\n",
       "    <tr>\n",
       "      <th>493</th>\n",
       "      <td>well one cookie jar and tried climb oh boy thi...</td>\n",
       "    </tr>\n",
       "    <tr>\n",
       "      <th>494</th>\n",
       "      <td>little boy stool tipping and want cooky give s...</td>\n",
       "    </tr>\n",
       "    <tr>\n",
       "      <th>495</th>\n",
       "      <td>oh want tell mother and two child and child ge...</td>\n",
       "    </tr>\n",
       "    <tr>\n",
       "      <th>496</th>\n",
       "      <td>oh kid gonna get good spill stool mother turn ...</td>\n",
       "    </tr>\n",
       "    <tr>\n",
       "      <th>497</th>\n",
       "      <td>ah oh boy oh kid trying get cooky and laughing...</td>\n",
       "    </tr>\n",
       "  </tbody>\n",
       "</table>\n",
       "<p>498 rows × 1 columns</p>\n",
       "</div>"
      ],
      "text/plain": [
       "                                            Transcript\n",
       "0    scene kitchen mother wiping dish and water run...\n",
       "1    oh see sink running see stool tipping little b...\n",
       "2    boy and girl kitchen mother and little boy get...\n",
       "3    it summertime and mother and child working kit...\n",
       "4    wait put glass oh girl reaching cookie boy sta...\n",
       "..                                                 ...\n",
       "493  well one cookie jar and tried climb oh boy thi...\n",
       "494  little boy stool tipping and want cooky give s...\n",
       "495  oh want tell mother and two child and child ge...\n",
       "496  oh kid gonna get good spill stool mother turn ...\n",
       "497  ah oh boy oh kid trying get cooky and laughing...\n",
       "\n",
       "[498 rows x 1 columns]"
      ]
     },
     "execution_count": 57,
     "metadata": {},
     "output_type": "execute_result"
    }
   ],
   "source": [
    "preprocessed_data.replace('',np.nan,inplace=True)\n",
    "preprocessed_data"
   ]
  },
  {
   "cell_type": "code",
   "execution_count": 58,
   "metadata": {},
   "outputs": [
    {
     "data": {
      "text/html": [
       "<div>\n",
       "<style scoped>\n",
       "    .dataframe tbody tr th:only-of-type {\n",
       "        vertical-align: middle;\n",
       "    }\n",
       "\n",
       "    .dataframe tbody tr th {\n",
       "        vertical-align: top;\n",
       "    }\n",
       "\n",
       "    .dataframe thead th {\n",
       "        text-align: right;\n",
       "    }\n",
       "</style>\n",
       "<table border=\"1\" class=\"dataframe\">\n",
       "  <thead>\n",
       "    <tr style=\"text-align: right;\">\n",
       "      <th></th>\n",
       "      <th>Transcript</th>\n",
       "      <th>AD</th>\n",
       "    </tr>\n",
       "  </thead>\n",
       "  <tbody>\n",
       "    <tr>\n",
       "      <th>0</th>\n",
       "      <td>scene kitchen mother wiping dish and water run...</td>\n",
       "      <td>0</td>\n",
       "    </tr>\n",
       "    <tr>\n",
       "      <th>1</th>\n",
       "      <td>oh see sink running see stool tipping little b...</td>\n",
       "      <td>0</td>\n",
       "    </tr>\n",
       "    <tr>\n",
       "      <th>2</th>\n",
       "      <td>boy and girl kitchen mother and little boy get...</td>\n",
       "      <td>0</td>\n",
       "    </tr>\n",
       "    <tr>\n",
       "      <th>3</th>\n",
       "      <td>it summertime and mother and child working kit...</td>\n",
       "      <td>0</td>\n",
       "    </tr>\n",
       "    <tr>\n",
       "      <th>4</th>\n",
       "      <td>wait put glass oh girl reaching cookie boy sta...</td>\n",
       "      <td>0</td>\n",
       "    </tr>\n",
       "    <tr>\n",
       "      <th>...</th>\n",
       "      <td>...</td>\n",
       "      <td>...</td>\n",
       "    </tr>\n",
       "    <tr>\n",
       "      <th>493</th>\n",
       "      <td>well one cookie jar and tried climb oh boy thi...</td>\n",
       "      <td>1</td>\n",
       "    </tr>\n",
       "    <tr>\n",
       "      <th>494</th>\n",
       "      <td>little boy stool tipping and want cooky give s...</td>\n",
       "      <td>1</td>\n",
       "    </tr>\n",
       "    <tr>\n",
       "      <th>495</th>\n",
       "      <td>oh want tell mother and two child and child ge...</td>\n",
       "      <td>1</td>\n",
       "    </tr>\n",
       "    <tr>\n",
       "      <th>496</th>\n",
       "      <td>oh kid gonna get good spill stool mother turn ...</td>\n",
       "      <td>1</td>\n",
       "    </tr>\n",
       "    <tr>\n",
       "      <th>497</th>\n",
       "      <td>ah oh boy oh kid trying get cooky and laughing...</td>\n",
       "      <td>1</td>\n",
       "    </tr>\n",
       "  </tbody>\n",
       "</table>\n",
       "<p>498 rows × 2 columns</p>\n",
       "</div>"
      ],
      "text/plain": [
       "                                            Transcript  AD\n",
       "0    scene kitchen mother wiping dish and water run...   0\n",
       "1    oh see sink running see stool tipping little b...   0\n",
       "2    boy and girl kitchen mother and little boy get...   0\n",
       "3    it summertime and mother and child working kit...   0\n",
       "4    wait put glass oh girl reaching cookie boy sta...   0\n",
       "..                                                 ...  ..\n",
       "493  well one cookie jar and tried climb oh boy thi...   1\n",
       "494  little boy stool tipping and want cooky give s...   1\n",
       "495  oh want tell mother and two child and child ge...   1\n",
       "496  oh kid gonna get good spill stool mother turn ...   1\n",
       "497  ah oh boy oh kid trying get cooky and laughing...   1\n",
       "\n",
       "[498 rows x 2 columns]"
      ]
     },
     "execution_count": 58,
     "metadata": {},
     "output_type": "execute_result"
    }
   ],
   "source": [
    "preprocessed_data['AD'] = df['AD'].values\n",
    "preprocessed_data"
   ]
  },
  {
   "cell_type": "code",
   "execution_count": 59,
   "metadata": {},
   "outputs": [
    {
     "data": {
      "text/plain": [
       "Transcript    0\n",
       "AD            0\n",
       "dtype: int64"
      ]
     },
     "execution_count": 59,
     "metadata": {},
     "output_type": "execute_result"
    }
   ],
   "source": [
    "preprocessed_data.isna().sum() ##check if the dataset contains NaN values"
   ]
  },
  {
   "cell_type": "code",
   "execution_count": 60,
   "metadata": {},
   "outputs": [
    {
     "data": {
      "text/plain": [
       "Transcript    0\n",
       "AD            0\n",
       "dtype: int64"
      ]
     },
     "execution_count": 60,
     "metadata": {},
     "output_type": "execute_result"
    }
   ],
   "source": [
    "preprocessed_data.dropna(inplace=True) ##drop NaN value\n",
    "preprocessed_data.isna().sum()"
   ]
  },
  {
   "cell_type": "code",
   "execution_count": 61,
   "metadata": {},
   "outputs": [
    {
     "name": "stdout",
     "output_type": "stream",
     "text": [
      "Preprocessed data is saved :) :preprocessed_data.pkl\n"
     ]
    }
   ],
   "source": [
    "from pickle import dump\n",
    "filename='preprocessed_data.pkl'\n",
    "def save_preprocess_data(df,filename): ##Function to save the preprocessed data\n",
    "    dump(df,open(filename,'wb'))\n",
    "    print('Preprocessed data is saved :) :%s' % filename)  \n",
    "save_preprocess_data(preprocessed_data,filename)"
   ]
  },
  {
   "cell_type": "code",
   "execution_count": null,
   "metadata": {},
   "outputs": [],
   "source": []
  }
 ],
 "metadata": {
  "kernelspec": {
   "display_name": "Python 3",
   "language": "python",
   "name": "python3"
  },
  "language_info": {
   "codemirror_mode": {
    "name": "ipython",
    "version": 3
   },
   "file_extension": ".py",
   "mimetype": "text/x-python",
   "name": "python",
   "nbconvert_exporter": "python",
   "pygments_lexer": "ipython3",
   "version": "3.8.0"
  }
 },
 "nbformat": 4,
 "nbformat_minor": 2
}
